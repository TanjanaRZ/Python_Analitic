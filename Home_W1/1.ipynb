{
 "cells": [
  {
   "cell_type": "markdown",
   "metadata": {},
   "source": [
    "## Задача 1.  "
   ]
  },
  {
   "cell_type": "markdown",
   "metadata": {},
   "source": [
    "### Условие 1:"
   ]
  },
  {
   "cell_type": "markdown",
   "metadata": {},
   "source": [
    "На складе лежат разные фрукты в разном количестве.\n",
    "Нужно написать функцию, которая на вход принимает любое количество названий фруктов \n",
    "и их количество, а возвращает общее количество фруктов на складе."
   ]
  },
  {
   "cell_type": "code",
   "execution_count": 116,
   "metadata": {},
   "outputs": [
    {
     "name": "stdout",
     "output_type": "stream",
     "text": [
      "{'бананы': 10, 'яблоки': 8, 'апельсины': 3}\n",
      "Сумма всех фруктов равна 21\n"
     ]
    }
   ],
   "source": [
    "def total_fruits(**kwargs):\n",
    "    print(dict(kwargs))\n",
    "    sum = 0\n",
    "    for key, value in kwargs.items():\n",
    "        sum = sum + value\n",
    "    print(f'Сумма всех фруктов равна {sum}')\n",
    "\n",
    "total_fruits(бананы = 10, яблоки = 8, апельсины = 3)\n"
   ]
  }
 ],
 "metadata": {
  "kernelspec": {
   "display_name": "Python 3.8.10 64-bit",
   "language": "python",
   "name": "python3"
  },
  "language_info": {
   "name": "python",
   "version": "3.8.10"
  },
  "orig_nbformat": 4,
  "vscode": {
   "interpreter": {
    "hash": "a42579e49751352c260acb8a961a7e5a6467153a056d5503dc065206adeac815"
   }
  }
 },
 "nbformat": 4,
 "nbformat_minor": 2
}
